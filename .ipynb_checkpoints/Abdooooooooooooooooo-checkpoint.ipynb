{
 "cells": [
  {
   "cell_type": "code",
   "execution_count": 1,
   "metadata": {},
   "outputs": [],
   "source": [
    "import random\n",
    "import numpy as np\n",
    "import matplotlib.pyplot as plt \n",
    "import pylab as pl\n",
    "from IPython import display\n",
    "import time"
   ]
  },
  {
   "cell_type": "code",
   "execution_count": 2,
   "metadata": {},
   "outputs": [],
   "source": [
    "#initialize numbers of cities with random position in 2D\n",
    "def create_cities (num_of_cities):\n",
    "    np.random.seed(3)\n",
    "    cities=np.random.randint(1,100,size=(num_of_cities,2))\n",
    "    return cities"
   ]
  },
  {
   "cell_type": "code",
   "execution_count": 3,
   "metadata": {},
   "outputs": [],
   "source": [
    "#initialize random solution (random path throug cities)\n",
    "def create_population (num_of_cities,size_of_population):\n",
    "    chromosome=np.asarray([i for i in range(num_of_cities)])\n",
    "    population=np.zeros(shape=(size_of_population,num_of_cities),dtype=np.int16)\n",
    "    for i in range (size_of_population):\n",
    "        random.shuffle(chromosome)\n",
    "        population[i:]=chromosome\n",
    "    \n",
    "    return population"
   ]
  },
  {
   "cell_type": "code",
   "execution_count": 4,
   "metadata": {},
   "outputs": [],
   "source": [
    "#estimate fitness for every chromosme (solution) by inverting the total distance \n",
    "def cal_fitness (population,cities):\n",
    "    fitness=np.zeros(shape=(population.shape[0],1),dtype=np.float32)\n",
    "    num_of_cities=cities.shape[0]\n",
    "    size_of_population=population.shape[0]\n",
    "    \n",
    "    for i in range(size_of_population):\n",
    "        distance=0\n",
    "        for j in range(num_of_cities-1):\n",
    "            distance=distance+np.linalg.norm(cities[population[i,j]]-cities[population[i,j+1]])\n",
    "            \n",
    "        fitness[i]=np.round(100/(distance+1),4)\n",
    "        \n",
    "    return fitness\n"
   ]
  },
  {
   "cell_type": "code",
   "execution_count": 5,
   "metadata": {},
   "outputs": [],
   "source": [
    "#select the best k  solutions in population\n",
    "def best_ever (population,fitness,k):\n",
    "    fitness_copy=fitness\n",
    "    indices=[]\n",
    "    for i in range(k):\n",
    "        indices.append(np.argmax(fitness_copy))\n",
    "        fitness_copy[indices[i]]=0\n",
    "        \n",
    "    return population[indices]"
   ]
  },
  {
   "cell_type": "code",
   "execution_count": 6,
   "metadata": {},
   "outputs": [],
   "source": [
    "#select k random chromosomes (solutions) according with probability associated with thier fitness score\n",
    "# based on probability \n",
    "def pick_chromosomes(population,fitness,k):\n",
    "    prop=fitness/np.sum(fitness,axis=0)\n",
    "    picked=np.random.choice(fitness.reshape(-1,),size=(k,),replace=True,p=prop.reshape(-1,))\n",
    "    picked_chromosomes=population[np.where(fitness==picked)[0]]\n",
    "    return picked_chromosomes"
   ]
  },
  {
   "cell_type": "code",
   "execution_count": 7,
   "metadata": {},
   "outputs": [],
   "source": [
    "#generate random number for every gene in the chromosome\n",
    "# type one of mutation \n",
    "def mutate_gene (chromosome,mutation_rate):\n",
    "    number_of_cities=len(chromosome)\n",
    "    for i in range(number_of_cities):\n",
    "        if(mutation_rate > random.random()):\n",
    "            index_A = i\n",
    "            index_b = (index_A+1)%number_of_cities\n",
    "            chromosome[index_A],chromosome[index_b]=chromosome[index_b],chromosome[index_A]\n",
    "    return chromosome"
   ]
  },
  {
   "cell_type": "code",
   "execution_count": 8,
   "metadata": {},
   "outputs": [],
   "source": [
    "#generate random number for every  chromosome\n",
    "# type tow of mutation \n",
    "def mutate_chromosome (chromosome,mutation_rate):\n",
    "    number_of_cities=len(chromosome)\n",
    "    if(mutation_rate > random.random()):\n",
    "        index_A = random.randint(0,number_of_cities-1)\n",
    "        index_b = (index_A+1)%number_of_cities\n",
    "        chromosome[index_A],chromosome[index_b]=chromosome[index_b],chromosome[index_A]\n",
    "    return chromosome"
   ]
  },
  {
   "cell_type": "code",
   "execution_count": 12,
   "metadata": {},
   "outputs": [],
   "source": [
    "#cross over between two chromosomes and generate one chromosome\n",
    "def crossover (chromosome_A,chromosome_B):\n",
    "    #select random part of chromosome_A to be passed to tne new generation\n",
    "    start=random.randint(0,len(chromosome_A)-1)\n",
    "    end = random.randint(start+1,len(chromosome_A))\n",
    "    #initialize the new chromosome which takes the random part from chromosome_A\n",
    "    new_A =np.ones_like(chromosome_A)\n",
    "    new_A[start:end+1]=chromosome_A[start:end+1]\n",
    "    #remain part  of chromosome_B after removing the random part\n",
    "    remain_part = Diff(chromosome_A[start:end+1],chromosome_B)\n",
    "    #passing the remain part to the new chromosome\n",
    "    new_A[:start]=remain_part[:start]\n",
    "    new_A[end+1:]=remain_part[start:]\n",
    "    return new_A\n",
    "\n",
    "#helper function to get  the difference between two lists\n",
    "def Diff(li1, li2): \n",
    "    li1=list(li1)\n",
    "    li2=list(li2)\n",
    "    li_dif = [i for i in li1 + li2 if i not in li1 or i not in li2] \n",
    "    return li_dif "
   ]
  },
  {
   "cell_type": "code",
   "execution_count": 56,
   "metadata": {},
   "outputs": [
    {
     "data": {
      "image/png": "[encoded data removed]",
      "text/plain": [
       "<Figure size 432x288 with 1 Axes>"
      ]
     },
     "metadata": {
      "needs_background": "light"
     },
     "output_type": "display_data"
    }
   ],
   "source": [
    "def draw(m):\n",
    "    plt.clf()\n",
    "    pl.plot(cities[m,0].reshape(-1,),cities[m,1].reshape(-1,))\n",
    "    plt.scatter(cities[m,0].reshape(-1,),cities[m,1].reshape(-1,),color='red')\n",
    "    display.display(pl.gcf())\n",
    "    display.clear_output(wait=True)\n",
    "    time.sleep(.2)\n",
    "        \n",
    "population = create_population(10,6)\n",
    "for i in range (population.shape[0]):\n",
    "    m=population[i].reshape(-1,)\n",
    "    draw(m)"
   ]
  },
  {
   "cell_type": "code",
   "execution_count": 58,
   "metadata": {},
   "outputs": [],
   "source": [
    "#this function will take the cordination of cities and mutation rate and mutation type (gene or chromosome)\n",
    "#,number of solution in population and number of iteration\n",
    "def genetic_algorithm (cities,mutation_rate,mutation_type,size_of_population,iterations):\n",
    "    dict={}\n",
    "    best_chromosome=-1\n",
    "    #Initialization\n",
    "     \n",
    "    for itrator in range(iterations):\n",
    "        # calculate fitness  \n",
    "        \n",
    "        #this to keep the value of the offsprings\n",
    "        offsprings=np.zeros(shape=population.shape,dtype=np.int16)\n",
    "        \n",
    "        #apply cross-over & mutation\n",
    "        #Comming loop is \"Mating Pool\" \n",
    "    \n",
    "    \n",
    "    \n",
    "    \n",
    "    \n",
    " \n",
    "        #next Generation will consist of offSprings, old parents \n",
    "\n",
    "        #calculate fitness to select the best of newPopulation \n",
    "        \n",
    "        # select the best solution in current iteration to draw it \n",
    "        \n",
    "        #draw(best_chromosome)\n",
    "    \n",
    "    return best_chromosome,dict\n",
    "\n",
    "# function to calculate distance of certain solution \n",
    "def cal_Dist(chormosome,cities):\n",
    "    distance=0\n",
    "     \n",
    "    return np.round(distance,2)\n"
   ]
  },
  {
   "cell_type": "code",
   "execution_count": 88,
   "metadata": {},
   "outputs": [],
   "source": [
    "# yasta this is a bouns function \n",
    "# function to draw the relation between iteration and distance @ iteration i \n",
    "def plot_History(hist):\n",
    "    plt.clf() #clear \n",
    "    lists = sorted(hist.items()) # sorted by key, return a list of tuples\n",
    "    x, y = zip(*lists) # unpack a list of pairs into two tuples\n",
    "    plt.xlabel('Iterations')\n",
    "    plt.ylabel('Distance')\n",
    "    plt.plot(x, y)\n",
    "    plt.show()\n"
   ]
  },
  {
   "cell_type": "code",
   "execution_count": 107,
   "metadata": {
    "scrolled": true
   },
   "outputs": [
    {
     "data": {
      "image/png": "[encoded data removed]",
      "text/plain": [
       "<Figure size 432x288 with 1 Axes>"
      ]
     },
     "metadata": {
      "needs_background": "light"
     },
     "output_type": "display_data"
    }
   ],
   "source": [
    "cities = create_cities (10)\n",
    "bestSol,history = genetic_algorithm (cities,0.1,1,50,25)\n",
    "plot_History(history)\n"
   ]
  },
  {
   "cell_type": "code",
   "execution_count": null,
   "metadata": {},
   "outputs": [],
   "source": []
  },
  {
   "cell_type": "code",
   "execution_count": null,
   "metadata": {},
   "outputs": [],
   "source": []
  }
 ],
 "metadata": {
  "kernelspec": {
   "display_name": "Python 3",
   "language": "python",
   "name": "python3"
  },
  "language_info": {
   "codemirror_mode": {
    "name": "ipython",
    "version": 3
   },
   "file_extension": ".py",
   "mimetype": "text/x-python",
   "name": "python",
   "nbconvert_exporter": "python",
   "pygments_lexer": "ipython3",
   "version": "3.7.0"
  }
 },
 "nbformat": 4,
 "nbformat_minor": 2
}
